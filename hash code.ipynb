{
 "cells": [
  {
   "cell_type": "code",
   "execution_count": 9,
   "metadata": {},
   "outputs": [],
   "source": [
    "import hashlib"
   ]
  },
  {
   "cell_type": "code",
   "execution_count": 22,
   "metadata": {},
   "outputs": [],
   "source": [
    "#define the function \n",
    "def iacdhash(str):\n",
    "    #create a result var\n",
    "    #set it to the hashlib.md5 and encode the string\n",
    "    result = hashlib.md5(str.encode()) \n",
    "    #print the hash\n",
    "    print(\"The hexadecimal equivalent of hash is : \", end =\"\") \n",
    "    #get the length of the hash that will alway be the same\n",
    "    print(result.hexdigest())\n",
    "    print(\"lenghth of hash is\", len(result.hexdigest()))\n",
    "    #print out  digest and block size\n",
    "    print(result.digest_size)\n",
    "    print(result.block_size)\n",
    "    "
   ]
  },
  {
   "cell_type": "code",
   "execution_count": 23,
   "metadata": {},
   "outputs": [
    {
     "name": "stdout",
     "output_type": "stream",
     "text": [
      "The hexadecimal equivalent of hash is : 611c240b5d9a22bf561399383e4dcd6c\n",
      "lenghth of hash is 32\n",
      "16\n",
      "64\n"
     ]
    }
   ],
   "source": [
    "iacdhash('dog123')"
   ]
  },
  {
   "cell_type": "code",
   "execution_count": 24,
   "metadata": {},
   "outputs": [],
   "source": [
    "#define the function \n",
    "def iacdhash2(str):\n",
    "    #create a result var\n",
    "    #set it to the hashlib.sha256 and encode the string\n",
    "    result = hashlib.sha256(str.encode()) \n",
    "    #print the hash\n",
    "    print(\"The hexadecimal equivalent of hash is : \", end =\"\") \n",
    "    #get the length of the hash that will alway be the same\n",
    "    print(result.hexdigest())\n",
    "    print(\"lenghth of hash is\", len(result.hexdigest()))\n",
    "    #print out  digest and block size\n",
    "    print(result.digest_size)\n",
    "    print(result.block_size)\n",
    "    "
   ]
  },
  {
   "cell_type": "code",
   "execution_count": 25,
   "metadata": {},
   "outputs": [
    {
     "name": "stdout",
     "output_type": "stream",
     "text": [
      "The hexadecimal equivalent of hash is : 6247b537b5e554f6cd13b0afd338dd4f51d596ead330a21e0a3b73b6b6e48944\n",
      "lenghth of hash is 64\n",
      "32\n",
      "64\n"
     ]
    }
   ],
   "source": [
    "iacdhash2('dog123')\n"
   ]
  },
  {
   "cell_type": "code",
   "execution_count": 26,
   "metadata": {},
   "outputs": [
    {
     "name": "stdout",
     "output_type": "stream",
     "text": [
      "The hexadecimal equivalent of hash is : 5c901d3c515e031a5de4dd84d6226930\n",
      "lenghth of hash is 32\n",
      "16\n",
      "64\n"
     ]
    }
   ],
   "source": [
    "iacdhash('ladjfglaidsgvalsdgflwuGFLIWEGFIWEUYGFDLUWGCLJHadgcljdshGFLdjashgfljhGFjhgfkjhGFKJdhgfkjahGFLjahfgljhDGFLUEWYRGIUEWYRHILU2WEYR8O73465871650817436508164508176408123Y4OUYGEWUGFLJHGCLAJSBCLWEQUIYRP134YR9P18874')"
   ]
  },
  {
   "cell_type": "code",
   "execution_count": 27,
   "metadata": {},
   "outputs": [
    {
     "name": "stdout",
     "output_type": "stream",
     "text": [
      "The hexadecimal equivalent of hash is : dcf746056ccacd576101827cc7ef5e4176e5515f065d04c722a5b90ffb637f1b\n",
      "lenghth of hash is 64\n",
      "32\n",
      "64\n"
     ]
    }
   ],
   "source": [
    "iacdhash2('ladjfglaidsgvalsdgflwuGFLIWEGFIWEUYGFDLUWGCLJHadgcljdshGFLdjashgfljhGFjhgfkjhGFKJdhgfkjahGFLjahfgljhDGFLUEWYRGIUEWYRHILU2WEYR8O73465871650817436508164508176408123Y4OUYGEWUGFLJHGCLAJSBCLWEQUIYRP134YR9P18875')"
   ]
  },
  {
   "cell_type": "code",
   "execution_count": null,
   "metadata": {},
   "outputs": [],
   "source": []
  }
 ],
 "metadata": {
  "kernelspec": {
   "display_name": "Python 3",
   "language": "python",
   "name": "python3"
  },
  "language_info": {
   "codemirror_mode": {
    "name": "ipython",
    "version": 3
   },
   "file_extension": ".py",
   "mimetype": "text/x-python",
   "name": "python",
   "nbconvert_exporter": "python",
   "pygments_lexer": "ipython3",
   "version": "3.7.6"
  }
 },
 "nbformat": 4,
 "nbformat_minor": 2
}
