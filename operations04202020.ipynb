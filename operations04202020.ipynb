{
 "cells": [
  {
   "cell_type": "code",
   "execution_count": 20,
   "metadata": {},
   "outputs": [],
   "source": [
    "a=13\n",
    "b=14"
   ]
  },
  {
   "cell_type": "code",
   "execution_count": 21,
   "metadata": {},
   "outputs": [
    {
     "data": {
      "text/plain": [
       "'0b1101'"
      ]
     },
     "execution_count": 21,
     "metadata": {},
     "output_type": "execute_result"
    }
   ],
   "source": [
    "#find binary\n",
    "bin(a)"
   ]
  },
  {
   "cell_type": "code",
   "execution_count": 25,
   "metadata": {},
   "outputs": [],
   "source": [
    "c = bin(a)\n",
    "d = bin(b)"
   ]
  },
  {
   "cell_type": "code",
   "execution_count": 27,
   "metadata": {},
   "outputs": [
    {
     "name": "stdout",
     "output_type": "stream",
     "text": [
      "0b1101\n",
      "0b1110\n"
     ]
    }
   ],
   "source": [
    "print(c)\n",
    "print(d)"
   ]
  },
  {
   "cell_type": "code",
   "execution_count": 28,
   "metadata": {},
   "outputs": [
    {
     "name": "stdout",
     "output_type": "stream",
     "text": [
      "1101\n",
      "1110\n"
     ]
    }
   ],
   "source": [
    "#remove the 0b that is placed to say its binary\n",
    "c = c[2:]\n",
    "print(c)\n",
    "d = d[2:]\n",
    "print(d)"
   ]
  },
  {
   "cell_type": "code",
   "execution_count": 29,
   "metadata": {},
   "outputs": [
    {
     "data": {
      "text/plain": [
       "15"
      ]
     },
     "execution_count": 29,
     "metadata": {},
     "output_type": "execute_result"
    }
   ],
   "source": [
    "# the or opperation | \n",
    "# the binary values = 1101 or 1110 \n",
    "# result is 1111\n",
    "a | b"
   ]
  },
  {
   "cell_type": "code",
   "execution_count": 32,
   "metadata": {},
   "outputs": [
    {
     "data": {
      "text/plain": [
       "'0b1111'"
      ]
     },
     "execution_count": 32,
     "metadata": {},
     "output_type": "execute_result"
    }
   ],
   "source": [
    "bin(15)"
   ]
  },
  {
   "cell_type": "code",
   "execution_count": 36,
   "metadata": {},
   "outputs": [
    {
     "data": {
      "text/plain": [
       "12"
      ]
     },
     "execution_count": 36,
     "metadata": {},
     "output_type": "execute_result"
    }
   ],
   "source": [
    "# the and opporator &\n",
    "a & b"
   ]
  },
  {
   "cell_type": "code",
   "execution_count": 37,
   "metadata": {},
   "outputs": [
    {
     "data": {
      "text/plain": [
       "'0b1100'"
      ]
     },
     "execution_count": 37,
     "metadata": {},
     "output_type": "execute_result"
    }
   ],
   "source": [
    "bin(12)"
   ]
  },
  {
   "cell_type": "code",
   "execution_count": 38,
   "metadata": {},
   "outputs": [
    {
     "data": {
      "text/plain": [
       "3"
      ]
     },
     "execution_count": 38,
     "metadata": {},
     "output_type": "execute_result"
    }
   ],
   "source": [
    "# xor opperator ^\n",
    "# 0 ^ 0 -> 0\n",
    "# 0 ^ 1 -> 1\n",
    "# 1 ^ 0 -> 1\n",
    "# 1 ^ 1 -> 0\n",
    "a ^ b"
   ]
  },
  {
   "cell_type": "code",
   "execution_count": 44,
   "metadata": {},
   "outputs": [
    {
     "name": "stdout",
     "output_type": "stream",
     "text": [
      "Enter the cipher text or plain text: hello\n",
      "Enter the key for encryption or decryption: 7\n",
      "Heres the output:  _\n",
      "Heres the output:  _R\n",
      "Heres the output:  _R[\n",
      "Heres the output:  _R[[\n",
      "Heres the output:  _R[[X\n"
     ]
    }
   ],
   "source": [
    "input_str = input(\"Enter the cipher text or plain text: \")\n",
    "key = input(\"Enter the key for encryption or decryption: \")\n",
    "no_of_itr = len(input_str)\n",
    "output_str = \"\"\n",
    "\n",
    "for i in range(no_of_itr):\n",
    "    current = input_str[i]\n",
    "    current_key = key[i%len(key)]\n",
    "    output_str += chr(ord(current) ^ ord(current_key))\n",
    "    print (\"Heres the output: \", output_str)"
   ]
  },
  {
   "cell_type": "code",
   "execution_count": null,
   "metadata": {},
   "outputs": [],
   "source": [
    "input_str = input(\"Enter the cipher text or plain text: \")\n",
    "key = input(\"Enter the key for encryption or decryption: \")\n",
    "no_of_itr = len(input_str)\n",
    "output_str = \"\"\n",
    "\n",
    "for i in range(no_of_itr):\n",
    "    current = input_str[i]\n",
    "    current_key = key[i%len(key)]\n",
    "    output_str += chr(ord(current) ^ ord(current_key))\n",
    "    print (\"Heres the output: \", output_str)"
   ]
  },
  {
   "cell_type": "code",
   "execution_count": 1,
   "metadata": {},
   "outputs": [],
   "source": [
    "def xorcrypt():\n",
    "    input_str = input(\"Enter the cipher text or plain text: \")\n",
    "    key = input(\"Enter the key for encryption or decryption: \")\n",
    "    no_of_itr = len(input_str)\n",
    "    output_str = \"\"\n",
    "\n",
    "    for i in range(no_of_itr):\n",
    "        current = input_str[i]\n",
    "        current_key = key[i%len(key)]\n",
    "        output_str += chr(ord(current) ^ ord(current_key))\n",
    "        print (\"Heres the output: \", output_str)\n"
   ]
  },
  {
   "cell_type": "code",
   "execution_count": 2,
   "metadata": {},
   "outputs": [
    {
     "name": "stdout",
     "output_type": "stream",
     "text": [
      "Enter the cipher text or plain text: hello\n",
      "Enter the key for encryption or decryption: 1234\n",
      "Heres the output:  Y\n",
      "Heres the output:  YW\n",
      "Heres the output:  YW_\n",
      "Heres the output:  YW_X\n",
      "Heres the output:  YW_X^\n"
     ]
    }
   ],
   "source": [
    "xorcrypt()"
   ]
  },
  {
   "cell_type": "code",
   "execution_count": 3,
   "metadata": {},
   "outputs": [
    {
     "name": "stdout",
     "output_type": "stream",
     "text": [
      "Enter the cipher text or plain text: YW_X^\n",
      "Enter the key for encryption or decryption: 1234\n",
      "Heres the output:  h\n",
      "Heres the output:  he\n",
      "Heres the output:  hel\n",
      "Heres the output:  hell\n",
      "Heres the output:  hello\n"
     ]
    }
   ],
   "source": [
    "xorcrypt()"
   ]
  },
  {
   "cell_type": "code",
   "execution_count": null,
   "metadata": {},
   "outputs": [],
   "source": []
  }
 ],
 "metadata": {
  "kernelspec": {
   "display_name": "Python 3",
   "language": "python",
   "name": "python3"
  },
  "language_info": {
   "codemirror_mode": {
    "name": "ipython",
    "version": 3
   },
   "file_extension": ".py",
   "mimetype": "text/x-python",
   "name": "python",
   "nbconvert_exporter": "python",
   "pygments_lexer": "ipython3",
   "version": "3.7.6"
  }
 },
 "nbformat": 4,
 "nbformat_minor": 4
}
